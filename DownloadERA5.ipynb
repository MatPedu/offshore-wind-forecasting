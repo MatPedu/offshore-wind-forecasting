{
 "cells": [
  {
   "cell_type": "markdown",
   "id": "76a5a6246adbccdc",
   "metadata": {},
   "source": [
    "see here to setup ERA5 cdsapi: https://cds.climate.copernicus.eu/how-to-api"
   ]
  },
  {
   "cell_type": "code",
   "execution_count": null,
   "id": "15837a45-0eea-4288-bfaf-bb548ae816ea",
   "metadata": {},
   "outputs": [],
   "source": [
    "import cdsapi\n",
    "from pathlib import Path"
   ]
  },
  {
   "cell_type": "code",
   "execution_count": null,
   "id": "89124cf2629f15cb",
   "metadata": {
    "ExecuteTime": {
     "end_time": "2024-06-24T18:54:19.103205Z",
     "start_time": "2024-06-24T18:54:19.098187Z"
    }
   },
   "outputs": [],
   "source": [
    "region = 'Northeastern'\n",
    "rootPath = Path('/Users/matteopeduto/Documents/GitHub/master_thesis/offshore-wind-forecasting/ERA5/')\n",
    "targetFolder = rootPath/'ERA5'/region\n",
    "targetFolder.mkdir(parents=True, exist_ok=True)"
   ]
  },
  {
   "cell_type": "code",
   "execution_count": null,
   "id": "340cc5bc-1661-44e9-bed0-6eb09ce1ad4f",
   "metadata": {
    "ExecuteTime": {
     "end_time": "2024-06-24T18:54:19.105039Z",
     "start_time": "2024-06-24T18:54:19.103801Z"
    }
   },
   "outputs": [],
   "source": [
    "N = 52\n",
    "W = -85\n",
    "S = 33\n",
    "E = -61"
   ]
  },
  {
   "cell_type": "code",
   "execution_count": null,
   "id": "292f6b65-2e14-4eb2-bf26-9edf0598786f",
   "metadata": {
    "ExecuteTime": {
     "end_time": "2024-06-24T19:08:35.190337Z",
     "start_time": "2024-06-24T18:54:19.106234Z"
    }
   },
   "outputs": [],
   "source": [
    "def downloadMonthYear(month, year):\n",
    "    targetFilePath = targetFolder / f'surface_{year}_{month}.nc'\n",
    "    print(f'downloading {targetFilePath}')\n",
    "    if targetFilePath.exists():\n",
    "        return\n",
    "    request = {\n",
    "            'product_type': [\"reanalysis\"],\n",
    "            'data_format': 'netcdf',\n",
    "            'variable': [\n",
    "                '10m_u_component_of_wind',\n",
    "                '10m_v_component_of_wind',\n",
    "                '2m_dewpoint_temperature',\n",
    "                '2m_temperature',\n",
    "                'surface_net_solar_radiation',\n",
    "                'surface_pressure'\n",
    "            ],\n",
    "            'year': [str(year)],\n",
    "            'month': [\n",
    "                str(month),\n",
    "            ],\n",
    "            'day': [\n",
    "                '01', '02', '03',\n",
    "                '04', '05', '06',\n",
    "                '07', '08', '09',\n",
    "                '10', '11', '12',\n",
    "                '13', '14', '15',\n",
    "                '16', '17', '18',\n",
    "                '19', '20', '21',\n",
    "                '22', '23', '24',\n",
    "                '25', '26', '27',\n",
    "                '28', '29', '30',\n",
    "                '31',\n",
    "            ],\n",
    "            'time': [\n",
    "                '00:00', '01:00', '02:00',\n",
    "                '03:00', '04:00', '05:00',\n",
    "                '06:00', '07:00', '08:00',\n",
    "                '09:00', '10:00', '11:00',\n",
    "                '12:00', '13:00', '14:00',\n",
    "                '15:00', '16:00', '17:00',\n",
    "                '18:00', '19:00', '20:00',\n",
    "                '21:00', '22:00', '23:00',\n",
    "            ],\n",
    "            'area': [N, W, S, E],\n",
    "        }\n",
    "        \n",
    "    client = cdsapi.Client()\n",
    "    client.retrieve(dataset, request).download(targetFilePath)"
   ]
  },
  {
   "cell_type": "code",
   "execution_count": null,
   "id": "e9cc04aee5bb19a",
   "metadata": {
    "ExecuteTime": {
     "end_time": "2024-06-24T19:08:35.190337Z",
     "start_time": "2024-06-24T18:54:19.106234Z"
    }
   },
   "outputs": [],
   "source": [
    "dataset = \"reanalysis-era5-single-levels\"\n",
    "for year in range(2019,2024):\n",
    "    for month in range(1,13):\n",
    "        downloadMonthYear(month,year)"
   ]
  },
  {
   "cell_type": "code",
   "execution_count": null,
   "id": "2b3e2c7e-9442-41c5-8fb8-79d39a2284c3",
   "metadata": {},
   "outputs": [],
   "source": []
  }
 ],
 "metadata": {
  "kernelspec": {
   "display_name": "Python 3 (ipykernel)",
   "language": "python",
   "name": "python3"
  },
  "language_info": {
   "codemirror_mode": {
    "name": "ipython",
    "version": 3
   },
   "file_extension": ".py",
   "mimetype": "text/x-python",
   "name": "python",
   "nbconvert_exporter": "python",
   "pygments_lexer": "ipython3",
   "version": "3.9.12"
  }
 },
 "nbformat": 4,
 "nbformat_minor": 5
}
