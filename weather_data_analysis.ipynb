{
 "cells": [
  {
   "cell_type": "code",
   "id": "856853b3",
   "metadata": {
    "jupyter": {
     "is_executing": true
    }
   },
   "source": [
    "\n",
    "import requests\n",
    "import pandas as pd\n",
    "import matplotlib.pyplot as plt\n",
    "from windrose import WindroseAxes\n"
   ],
   "outputs": [],
   "execution_count": null
  },
  {
   "cell_type": "markdown",
   "id": "c6dc2d5e",
   "metadata": {},
   "source": [
    "\n",
    "# Data Structure\n",
    "\n",
    "The data available on the [National Data Buoy Center](https://www.ndbc.noaa.gov/) record the data of different stations on the water or on the coast all around the world.\n",
    "The data is saved in different ways. First of all, we have the real-time data which contains the data recorded from the last 45 days. It undergoes only through gross automatic quality check. \n",
    "Then, we have the quality controlled data which is divided in two categories the data from the previous month and the data from the prior months of the current year. Finally, we have the historical data which contains the values of the previous years. it can go back up to 1970.\n",
    "\n",
    "The quality controlled data contains several categories:\n",
    "- Standard meteorological data\n",
    "- Continuous winds data\n",
    "- Spectral wave density data\n",
    "- Spectral mean wave direction data\n",
    "- Spectral principal wave direction data\n",
    "- Spectral wave directional constant R1 data\n",
    "- Spectral wave directional constant R2 data\n",
    "- Water level data\n",
    "- Tsunameter (DART) water level data\n",
    "- Acoustic Doppler Current Profiler (ADCP) data\n",
    "- Revised format Acoustic Doppler Current Profiler (ADCP) data\n",
    "- Oceanographic data\n",
    "- Solar Radiation data\n",
    "\n",
    "Note that not all the stations records the previous categories. To know which data is recorded in those categories please consult the [following link](https://www.ndbc.noaa.gov/faq/measdes.shtml).\n",
    "\n",
    "The tricky part of dowloading and analyzing the data is that even if a station saves a specific category (eg. Standard meteorological data), it is not guaranted that the station recorded every variable of the corresponding category. In addition, during the years, the stations were upgraded and modified which means that some variables are saved in recent years but originally not.\n",
    "If a station does not record a specific variable (or if there was an error in the sensing), the value will be filled with 9's (respectively with MM in real-time data).\n",
    "\n",
    "# Stations explanation\n",
    "The stations are owned different organizations and are part of different programs which results in some differences in the data loaded. However, the names, since 1977, the World Meteorological Organization (WMO) assigns a 5-character alpha-numeric station identifier to all weather observation stations. The rules can be found at this [link](https://www.ndbc.noaa.gov/faq/staid.shtml).\n",
    "Another problem with the stations is to sort them according to their position. In fact, the National Data Buoy Center offers a radial search available but only for the real-time data. The tool could be used to create a list and then retrieve the different numbers and look for the historical data. \n",
    "\n"
   ]
  },
  {
   "cell_type": "code",
   "id": "3d8cb9e2",
   "metadata": {
    "jupyter": {
     "is_executing": true
    }
   },
   "source": [
    "\n",
    "def load_data_real_time(station_number: int):\n",
    "    url = f'https://www.ndbc.noaa.gov/data/realtime2/{station_number}.txt'\n",
    "    response = requests.get(url)\n",
    "    if response.status_code == 200:\n",
    "        with open(f'data/downloaded_file_{station_number}.txt', 'wb') as file:\n",
    "            file.write(response.content)\n",
    "        print(\"File downloaded successfully!\")\n",
    "    else:\n",
    "        raise Exception(f\"Failed to download file. Status code: {response.status_code}\")\n",
    "\n",
    "def load_history_data(station_number: int, year: int):\n",
    "    url = f'https://www.ndbc.noaa.gov/view_text_file.php?filename={station_number}h{year}.txt.gz&dir=data/historical/stdmet/'\n",
    "    response = requests.get(url)\n",
    "    if response.status_code == 200:\n",
    "        with open(f'data/downloaded_historical_file_{station_number}_{year}.txt', 'wb') as file:\n",
    "            file.write(response.content)\n",
    "        print(\"File downloaded successfully!\")\n",
    "    else:\n",
    "        raise Exception(f\"Failed to download file. Status code: {response.status_code}\")\n"
   ],
   "outputs": [],
   "execution_count": null
  },
  {
   "metadata": {},
   "cell_type": "code",
   "source": [
    "def create_data():\n",
    "    "
   ],
   "id": "69a8ca21ee67fd4a",
   "outputs": [],
   "execution_count": null
  },
  {
   "cell_type": "code",
   "id": "95ff956a",
   "metadata": {},
   "source": [
    "\n",
    "def create_dataframe(station_number: int, station_dataframe: pd.DataFrame):\n",
    "    df = pd.read_csv(f'data/downloaded_file_{station_number}.txt', delim_whitespace=True, skiprows=2)\n",
    "    df.columns = ['YY', 'MM', 'DD', 'hh', 'mm', 'WDIR', 'WSPD', 'GST', 'WVHT', 'DPD', 'APD', 'MWD',\n",
    "                  'PRES', 'ATMP', 'WTMP', 'DEWP', 'VIS', 'PTDY', 'TIDE']\n",
    "    station_dataframe = pd.concat([station_dataframe, df])\n",
    "    return station_dataframe\n",
    "\n",
    "def create_historical_dataframe(station_number: int, year: int, station_dataframe: pd.DataFrame):\n",
    "    df = pd.read_csv(f'data/downloaded_historical_file_{station_number}_{year}.txt', delim_whitespace=True, skiprows=2)\n",
    "    df.columns = ['YY', 'MM', 'DD', 'hh', 'mm', 'WDIR', 'WSPD', 'GST', 'WVHT', 'DPD', 'APD', 'MWD',\n",
    "                  'PRES', 'ATMP', 'WTMP', 'DEWP', 'VIS', 'TIDE']\n",
    "    station_dataframe = pd.concat([station_dataframe, df])\n",
    "    return station_dataframe\n"
   ],
   "outputs": [],
   "execution_count": null
  },
  {
   "cell_type": "code",
   "id": "74889cc1",
   "metadata": {},
   "source": [
    "station_numbers = [44013, 'iosn3']\n",
    "years = range(2008, 2024)\n",
    "\n",
    "# create array of empty dataframes\n",
    "station_dataframes = []\n",
    "for station_number in station_numbers:\n",
    "    station_dataframes.append(pd.DataFrame())"
   ],
   "outputs": [],
   "execution_count": null
  },
  {
   "cell_type": "code",
   "id": "b9d1a5eb",
   "metadata": {},
   "source": [
    "years"
   ],
   "outputs": [],
   "execution_count": null
  },
  {
   "cell_type": "code",
   "id": "41993739",
   "metadata": {},
   "source": [
    "for ind,station_number in enumerate(station_numbers):\n",
    "    for year in years: \n",
    "        print(f\"Downloading data for station {station_number} for year {year}\")\n",
    "    \n",
    "        load_history_data(station_number, year)\n",
    "        station_dataframes[ind] = create_historical_dataframe(station_number, year, station_dataframes[ind])\n",
    "\n"
   ],
   "outputs": [],
   "execution_count": null
  },
  {
   "cell_type": "code",
   "id": "d8b3563b",
   "metadata": {},
   "source": [
    "def clean_dataframe(station_dataframe: pd.DataFrame):\n",
    "    station_dataframe.rename(columns={'YY': 'year', 'MM': 'month', 'DD': 'day', 'hh': 'hour', 'mm': 'minute'}, inplace=True)\n",
    "    station_dataframe['datetime'] = pd.to_datetime(station_dataframe[['year', 'month', 'day', 'hour', 'minute']])\n",
    "    station_dataframe.set_index('datetime', inplace=True)\n",
    "    station_dataframe.drop(columns=['year', 'month', 'day', 'hour', 'minute', 'TIDE', 'DEWP', 'VIS', 'WVHT',   'DPD' ,  'APD' ,'MWD', 'WTMP'], inplace=True)\n",
    "\n",
    "    unwanted_values = [99.0, 999.0, 9999.0]\n",
    "    print(station_dataframe)\n",
    "    df_cleaned = station_dataframe[~station_dataframe.isin(unwanted_values).any(axis=1)]\n",
    "\n",
    "    print(f\"Original DataFrame shape: {station_dataframe.shape}\")\n",
    "    print(f\"Cleaned DataFrame shape: {df_cleaned.shape}\")\n",
    "    return df_cleaned"
   ],
   "outputs": [],
   "execution_count": null
  },
  {
   "cell_type": "code",
   "id": "06466190",
   "metadata": {},
   "source": [
    "for ind, station_dataframe in enumerate(station_dataframes):\n",
    "    station_dataframes[ind] = clean_dataframe(station_dataframe)\n"
   ],
   "outputs": [],
   "execution_count": null
  },
  {
   "cell_type": "code",
   "id": "4bca2d1c",
   "metadata": {},
   "source": [
    "def plot_time_series(station_dataframe: pd.DataFrame):\n",
    "    station_dataframe[['WSPD', 'ATMP', 'PRES']].plot(figsize=(12, 6))\n",
    "    plt.title('Wind Speed, Air Temperature, and Pressure Over Time')\n",
    "    plt.ylabel('Value')\n",
    "    plt.show()"
   ],
   "outputs": [],
   "execution_count": null
  },
  {
   "cell_type": "code",
   "id": "07f3ddc3",
   "metadata": {},
   "source": [
    "def plot_histograms(station_dataframe: pd.DataFrame):\n",
    "    station_dataframe['WSPD'].hist(bins=20, figsize=(8, 6))\n",
    "    plt.title('Distribution of Wind Speed')\n",
    "    plt.xlabel('Wind Speed (m/s)')\n",
    "    plt.ylabel('Frequency')\n",
    "    plt.show()\n",
    "    "
   ],
   "outputs": [],
   "execution_count": null
  },
  {
   "cell_type": "code",
   "id": "a223ec62",
   "metadata": {},
   "source": [
    "def plot_windrose(station_dataframe: pd.DataFrame):\n",
    "    ax = WindroseAxes.from_ax()\n",
    "    ax.bar(station_dataframe['WDIR'], station_dataframe['WSPD'], normed=True, opening=0.8, edgecolor='white')\n",
    "    ax.set_title('Wind Rose Plot')\n",
    "    plt.show()"
   ],
   "outputs": [],
   "execution_count": null
  },
  {
   "cell_type": "code",
   "id": "6e4da06f",
   "metadata": {},
   "source": [
    "\n",
    "for ind, station_dataframe in enumerate(station_dataframes):\n",
    "    print(f\"analysing station {station_numbers[ind]}\")\n",
    "    plot_time_series(station_dataframe)\n",
    "    plot_histograms(station_dataframe)\n",
    "    plot_windrose(station_dataframe)\n",
    "    statistics_data = station_dataframe.describe()\n",
    "    print(statistics_data)\n",
    "\n"
   ],
   "outputs": [],
   "execution_count": null
  },
  {
   "cell_type": "code",
   "id": "e88ee734",
   "metadata": {},
   "source": [],
   "outputs": [],
   "execution_count": null
  }
 ],
 "metadata": {
  "kernelspec": {
   "display_name": "offshore_wind",
   "language": "python",
   "name": "python3"
  },
  "language_info": {
   "codemirror_mode": {
    "name": "ipython",
    "version": 3
   },
   "file_extension": ".py",
   "mimetype": "text/x-python",
   "name": "python",
   "nbconvert_exporter": "python",
   "pygments_lexer": "ipython3",
   "version": "3.9.12"
  }
 },
 "nbformat": 4,
 "nbformat_minor": 5
}
