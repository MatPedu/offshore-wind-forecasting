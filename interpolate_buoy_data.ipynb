{
 "cells": [
  {
   "cell_type": "code",
   "execution_count": null,
   "metadata": {},
   "outputs": [],
   "source": [
    "import xarray as xr\n",
    "import numpy as np\n",
    "import pandas as pd\n",
    "from scipy.interpolate import griddata\n",
    "from utilities.common_functions import clean_dataframe, create_historical_dataframe\n",
    "import matplotlib.pyplot as plt\n",
    "import seaborn as sns\n"
   ]
  },
  {
   "cell_type": "code",
   "execution_count": null,
   "metadata": {},
   "outputs": [],
   "source": [
    "# Exploring with station 44013\n",
    "coordinates = [42.346, -70.651]\n",
    "nc_file = 'ERA5/Processed/era5_2019_-83_-65_37_49.nc'"
   ]
  },
  {
   "cell_type": "code",
   "execution_count": null,
   "metadata": {},
   "outputs": [],
   "source": [
    "def load_era5(nc_file):\n",
    "    dataset = xr.open_dataset(nc_file)\n",
    "    # Convert the dataset to a pandas DataFrame\n",
    "    df = dataset.to_dataframe()\n",
    "    # Reset index to move time, latitude, and longitude from index to columns\n",
    "    df_reset = df.reset_index()\n",
    "    return df_reset"
   ]
  },
  {
   "cell_type": "code",
   "execution_count": null,
   "metadata": {},
   "outputs": [],
   "source": [
    "def find_four_closest_points(df_reset, coordinates):\n",
    "    # Compute the Euclidean distance between each point and the target\n",
    "    df_reset[\"distance\"] = np.sqrt((df_reset['latitude'] - coordinates[0])**2 + (df_reset['longitude'] - coordinates[1])**2)\n",
    "    # sort the dataframe by time and distance\n",
    "    df_sorted = df_reset.sort_values(by=['time', 'distance'])\n",
    "    \n",
    "    # keep the four first rows for each time\n",
    "    df_sorted = df_sorted.groupby('time').head(4)\n",
    "    return df_sorted\n"
   ]
  },
  {
   "cell_type": "code",
   "execution_count": null,
   "metadata": {},
   "outputs": [],
   "source": [
    "def linear_interpolation(dataset, coordinates):\n",
    "    points = dataset[['latitude', 'longitude']][:4].values\n",
    "    interpolated_df_value = pd.DataFrame(columns=['time','u_interp', 'v_interp', 'ssr_interp', 't2m_interp', 'd2m_interp'])\n",
    "    nb_values = len(dataset)\n",
    "    \n",
    "    # create a matrix with the batch of 4 points with the values of u\n",
    "    u_values = dataset['u10'].values\n",
    "    v_values = dataset['v10'].values\n",
    "    ssr_values = dataset['ssr'].values\n",
    "    t2m_values = dataset['t2m'].values\n",
    "    d2m_values = dataset['d2m'].values\n",
    "    u_matrix = u_values[:nb_values // 4 * 4].reshape(-1, 4).T\n",
    "    v_matrix = v_values[:nb_values // 4 * 4].reshape(-1, 4).T\n",
    "    ssr_matrix = ssr_values[:nb_values // 4 * 4].reshape(-1, 4).T\n",
    "    t2m_matrix = t2m_values[:nb_values // 4 * 4].reshape(-1, 4).T\n",
    "    d2m_matrix = d2m_values[:nb_values // 4 * 4].reshape(-1, 4).T\n",
    "    \n",
    "    \n",
    "    # Define an interpolation function\n",
    "    def interpolate_column(col):\n",
    "        return griddata(points, col, (coordinates[0], coordinates[1]), method='linear')\n",
    "\n",
    "    # Apply the interpolation function to each column of the matrices\n",
    "    interpolated_df_value['u_interp'] = np.apply_along_axis(interpolate_column, 0, u_matrix)\n",
    "    interpolated_df_value['v_interp'] = np.apply_along_axis(interpolate_column, 0, v_matrix)\n",
    "    interpolated_df_value['ssr_interp'] = np.apply_along_axis(interpolate_column, 0, ssr_matrix)\n",
    "    interpolated_df_value['t2m_interp'] = np.apply_along_axis(interpolate_column, 0, t2m_matrix)\n",
    "    interpolated_df_value['d2m_interp'] = np.apply_along_axis(interpolate_column, 0, d2m_matrix)\n",
    "    interpolated_df_value['time'] = dataset['time'].unique()\n",
    "    \n",
    "    \n",
    "    \n",
    "    \n",
    "\n",
    "    return interpolated_df_value\n",
    "    "
   ]
  },
  {
   "cell_type": "code",
   "execution_count": null,
   "metadata": {},
   "outputs": [],
   "source": [
    "def time_interpolating_dataset(interpolate_df):\n",
    "    # interpolate between two times\n",
    "    start_time = interpolate_df['time'].min()\n",
    "    end_time = interpolate_df['time'].max()\n",
    "\n",
    "    # Create a time range starting at the first occurrence of `00:50`, and repeating every hour\n",
    "    new_times = pd.date_range(start=start_time + pd.Timedelta(minutes=50), \n",
    "                            end=end_time + pd.Timedelta(hours=1), \n",
    "                            freq='h')\n",
    "\n",
    "    interpolate_df.set_index('time', inplace=True)\n",
    "    # Reindex the original dataframe to include new times\n",
    "    df_reindexed = interpolate_df.reindex(interpolate_df.index.union(new_times))\n",
    "\n",
    "\n",
    "    # Interpolate the missing values\n",
    "    df_time_interpolated = df_reindexed.interpolate(method='time')\n",
    "    \n",
    "    return df_time_interpolated\n",
    "    "
   ]
  },
  {
   "cell_type": "code",
   "execution_count": null,
   "metadata": {},
   "outputs": [],
   "source": [
    "def process_buoy_data(station_name, year):\n",
    "    # Load the buoy data\n",
    "    dataframe = pd.DataFrame()\n",
    "    dataframe = create_historical_dataframe(station_name, year, dataframe)\n",
    "    dataframe = clean_dataframe(dataframe)\n",
    "    dataframe['u_velocity'] = dataframe['WDIR'].apply(lambda x: -np.sin(np.radians(x))) * dataframe['WSPD']\n",
    "    dataframe['v_velocity'] = dataframe['WDIR'].apply(lambda x: -np.cos(np.radians(x))) * dataframe['WSPD']\n",
    "    dataframe['ATMP'] = dataframe['ATMP'] + 273.15\n",
    "    dataframe['DEWP'] = dataframe['DEWP'] + 273.15\n",
    "    return dataframe"
   ]
  },
  {
   "cell_type": "code",
   "execution_count": null,
   "metadata": {},
   "outputs": [],
   "source": [
    "dataset = load_era5(nc_file)"
   ]
  },
  {
   "cell_type": "code",
   "execution_count": null,
   "metadata": {},
   "outputs": [],
   "source": [
    "dataset = find_four_closest_points(dataset, coordinates)"
   ]
  },
  {
   "cell_type": "code",
   "execution_count": null,
   "metadata": {},
   "outputs": [],
   "source": [
    "interpolate_df = linear_interpolation(dataset, coordinates)"
   ]
  },
  {
   "cell_type": "code",
   "execution_count": null,
   "metadata": {},
   "outputs": [],
   "source": [
    "df_time_interpolated = time_interpolating_dataset(interpolate_df)"
   ]
  },
  {
   "cell_type": "code",
   "execution_count": null,
   "metadata": {},
   "outputs": [],
   "source": [
    "buoy_dataframe = process_buoy_data('44013', 2019)"
   ]
  },
  {
   "cell_type": "code",
   "execution_count": null,
   "metadata": {},
   "outputs": [],
   "source": [
    "comparative_dataset = pd.merge(buoy_dataframe, df_time_interpolated, left_index=True, right_index=True, how='inner')"
   ]
  },
  {
   "cell_type": "code",
   "execution_count": null,
   "metadata": {},
   "outputs": [],
   "source": [
    "comparative_dataset"
   ]
  },
  {
   "cell_type": "code",
   "execution_count": null,
   "metadata": {},
   "outputs": [],
   "source": [
    "# Correlation between ERA5 velocity and buoy velocity\n",
    "correlation_u = comparative_dataset['u_velocity'].corr(comparative_dataset['u_interp'])\n",
    "correlation_v = comparative_dataset['v_velocity'].corr(comparative_dataset['v_interp'])\n",
    "correlation_dewp = comparative_dataset['DEWP'].corr(comparative_dataset['d2m_interp'])\n",
    "correlation_t2m = comparative_dataset['ATMP'].corr(comparative_dataset['t2m_interp'])\n"
   ]
  },
  {
   "cell_type": "code",
   "execution_count": null,
   "metadata": {},
   "outputs": [],
   "source": [
    "def visualize_correlation(dataset, variable_1, variable_2, variable_type, correlation):\n",
    "    \n",
    "    \n",
    "    # Visualization 1: Scatter plot with regression line\n",
    "    plt.figure(figsize=(8, 6))\n",
    "    sns.regplot(x=variable_1, y=variable_2, data=dataset)\n",
    "    plt.title(f'Scatter Plot of {variable_type} (ERA5 vs Buoy) - Correlation: {correlation:.2f}')\n",
    "    plt.xlabel(f'{variable_1} (ERA5)')\n",
    "    plt.ylabel(f'{variable_2} (Buoy)')\n",
    "    plt.show()\n",
    "\n",
    "    # Visualization 2: Time-series comparison\n",
    "    plt.figure(figsize=(10, 6))\n",
    "    plt.plot(dataset.index, dataset[variable_1], label=f'ERA5 {variable_1}', marker='o')\n",
    "    plt.plot(dataset.index, dataset[variable_2], label=f'Buoy {variable_2}', marker='x')\n",
    "    plt.title(f'Time Series of {variable_2} vs {variable_1} (ERA5 vs Buoy)')\n",
    "    plt.xlabel('Time')\n",
    "    plt.ylabel(f'{variable_type}')\n",
    "    plt.legend()\n",
    "    plt.show()"
   ]
  },
  {
   "cell_type": "code",
   "execution_count": null,
   "metadata": {},
   "outputs": [],
   "source": [
    "visualize_correlation(comparative_dataset, 'u_interp', 'u_velocity', 'Velocity', correlation_u)\n",
    "visualize_correlation(comparative_dataset, 'v_interp', 'v_velocity', 'Velocity', correlation_v)\n",
    "visualize_correlation(comparative_dataset, 'd2m_interp', 'DEWP', 'Temperature', correlation_dewp)\n",
    "visualize_correlation(comparative_dataset, 't2m_interp', 'ATMP', 'Temperature', correlation_t2m)\n"
   ]
  },
  {
   "cell_type": "code",
   "execution_count": null,
   "metadata": {},
   "outputs": [],
   "source": [
    "file = 'A01_met_all_4c4d_7d6d_ac7a.nc'\n",
    "\n",
    "dataframe = load_era5(file)"
   ]
  },
  {
   "cell_type": "code",
   "execution_count": null,
   "metadata": {},
   "outputs": [],
   "source": [
    "dataframe.columns"
   ]
  },
  {
   "cell_type": "code",
   "execution_count": null,
   "metadata": {},
   "outputs": [],
   "source": [
    "dataframe\n"
   ]
  },
  {
   "cell_type": "code",
   "execution_count": null,
   "metadata": {},
   "outputs": [],
   "source": [
    "dataframe.drop(columns=['wind_2_gust', 'wind_2_gust_qc',\n",
    "       'wind_2_speed', 'wind_2_speed_qc', 'wind_2_direction',\n",
    "       'wind_2_direction_qc'], inplace=True)"
   ]
  },
  {
   "cell_type": "code",
   "execution_count": null,
   "metadata": {},
   "outputs": [],
   "source": [
    "dataframe"
   ]
  },
  {
   "cell_type": "code",
   "execution_count": null,
   "metadata": {},
   "outputs": [],
   "source": []
  }
 ],
 "metadata": {
  "kernelspec": {
   "display_name": "offshore_wind",
   "language": "python",
   "name": "python3"
  },
  "language_info": {
   "codemirror_mode": {
    "name": "ipython",
    "version": 3
   },
   "file_extension": ".py",
   "mimetype": "text/x-python",
   "name": "python",
   "nbconvert_exporter": "python",
   "pygments_lexer": "ipython3",
   "version": "3.9.12"
  }
 },
 "nbformat": 4,
 "nbformat_minor": 2
}
